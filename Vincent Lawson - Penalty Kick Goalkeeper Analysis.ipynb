{
 "cells": [
  {
   "cell_type": "markdown",
   "id": "5e4c48ca-8d5f-4859-bc2e-84959ce86fe3",
   "metadata": {},
   "source": [
    "# Penalty Kick Correlation Analysis - Vincent Lawson"
   ]
  },
  {
   "cell_type": "markdown",
   "id": "87dc9efd-d5c5-45a2-b7aa-0cba2968b7ce",
   "metadata": {},
   "source": [
    "### Sources: Penalty Kick Data (DOI: e0315017 Vollmer, Schoch, Brandes), European Soccer Database (Kaggle)"
   ]
  },
  {
   "cell_type": "markdown",
   "id": "2b6f5560-9543-4415-ab0e-31456296d6ca",
   "metadata": {},
   "source": [
    "#### Date: 7/17/25"
   ]
  },
  {
   "cell_type": "code",
   "execution_count": 1,
   "id": "c6801ab3-cb7c-4b6a-9193-cb7fc5c5d1a0",
   "metadata": {},
   "outputs": [],
   "source": [
    "import warnings\n",
    "warnings.filterwarnings('ignore')"
   ]
  },
  {
   "cell_type": "code",
   "execution_count": 2,
   "id": "30a94fd1-83b8-4711-9a25-e3903960ef70",
   "metadata": {},
   "outputs": [],
   "source": [
    "import pandas as pd\n",
    "import numpy as np\n",
    "import kaggle\n",
    "import kagglehub\n",
    "import shutil\n",
    "import os\n",
    "import sqlite3\n",
    "import re"
   ]
  },
  {
   "cell_type": "markdown",
   "id": "9e0b3c77-6681-476d-9491-dac1eb868376",
   "metadata": {},
   "source": [
    "## Loading Datasets"
   ]
  },
  {
   "cell_type": "code",
   "execution_count": 3,
   "id": "77863bd5-c3a5-4f7f-929b-6f3f776051dc",
   "metadata": {},
   "outputs": [
    {
     "name": "stdout",
     "output_type": "stream",
     "text": [
      "Warning: Looks like you're using an outdated `kagglehub` version, please consider updating (latest version: 0.3.12)\n"
     ]
    }
   ],
   "source": [
    "path = kagglehub.dataset_download(\"hugomathien/soccer\")"
   ]
  },
  {
   "cell_type": "code",
   "execution_count": 4,
   "id": "4234920b-9348-4a29-94f7-301b76775ae4",
   "metadata": {},
   "outputs": [
    {
     "name": "stdout",
     "output_type": "stream",
     "text": [
      "                name\n",
      "0    sqlite_sequence\n",
      "1  Player_Attributes\n",
      "2             Player\n",
      "3              Match\n",
      "4             League\n",
      "5            Country\n",
      "6               Team\n",
      "7    Team_Attributes\n"
     ]
    }
   ],
   "source": [
    "conn = sqlite3.connect(r'...\\database.sqlite')\n",
    "\n",
    "tables = pd.read_sql_query(\"SELECT name FROM sqlite_master WHERE type='table';\", conn)\n",
    "print(tables)"
   ]
  },
  {
   "cell_type": "code",
   "execution_count": 5,
   "id": "b76da761-bb13-496e-b7e0-53ed6a4e8831",
   "metadata": {},
   "outputs": [],
   "source": [
    "player = pd.read_sql_query(\"SELECT * FROM Player\", conn)\n",
    "attr = pd.read_sql_query(\"SELECT * FROM Player_Attributes\", conn)"
   ]
  },
  {
   "cell_type": "code",
   "execution_count": 6,
   "id": "f8791237-5043-40c7-8da9-d27623a5f2bc",
   "metadata": {},
   "outputs": [],
   "source": [
    "pen = pd.read_csv(r'...\\data_final.csv')"
   ]
  },
  {
   "cell_type": "markdown",
   "id": "f7b3a727-3969-43e8-9591-7d3830a46bd5",
   "metadata": {},
   "source": [
    "## Exploring Goalkeeper Height on Penalty Saves"
   ]
  },
  {
   "cell_type": "code",
   "execution_count": 7,
   "id": "0377a297-2392-4144-8870-c6938266a50e",
   "metadata": {},
   "outputs": [
    {
     "data": {
      "text/plain": [
       "13266"
      ]
     },
     "execution_count": 7,
     "metadata": {},
     "output_type": "execute_result"
    }
   ],
   "source": [
    "#Cleaning keeper name and joining data for keeper df\n",
    "player['player_name'] = player['player_name'].str.strip().str.lower().apply(lambda x: re.sub(r'[^\\w\\s]', '', x))\n",
    "pen['goalie_name'] = pen['goalie_name'].astype(str).str.strip().str.lower().apply(lambda x: re.sub(r'[^\\w\\s]', '', x))\n",
    "goalie_df = pd.merge(player, pen, left_on='player_name', right_on='goalie_name', how='inner')\n",
    "len(goalie_df)"
   ]
  },
  {
   "cell_type": "code",
   "execution_count": 8,
   "id": "ba232d70-4669-4763-838b-dc974d38d02a",
   "metadata": {},
   "outputs": [
    {
     "data": {
      "text/html": [
       "<div>\n",
       "<style scoped>\n",
       "    .dataframe tbody tr th:only-of-type {\n",
       "        vertical-align: middle;\n",
       "    }\n",
       "\n",
       "    .dataframe tbody tr th {\n",
       "        vertical-align: top;\n",
       "    }\n",
       "\n",
       "    .dataframe thead th {\n",
       "        text-align: right;\n",
       "    }\n",
       "</style>\n",
       "<table border=\"1\" class=\"dataframe\">\n",
       "  <thead>\n",
       "    <tr style=\"text-align: right;\">\n",
       "      <th></th>\n",
       "      <th>id</th>\n",
       "      <th>player_api_id</th>\n",
       "      <th>goalie_name</th>\n",
       "      <th>player_fifa_api_id</th>\n",
       "      <th>birthday</th>\n",
       "      <th>height</th>\n",
       "      <th>weight</th>\n",
       "      <th>matchday</th>\n",
       "      <th>OfficialMatchName</th>\n",
       "      <th>FinalResult</th>\n",
       "      <th>...</th>\n",
       "      <th>SeasonID</th>\n",
       "      <th>homeTeamName</th>\n",
       "      <th>awayTeamName</th>\n",
       "      <th>TypePhaseName</th>\n",
       "      <th>EventTypeName</th>\n",
       "      <th>ScoreBefore</th>\n",
       "      <th>fcompMatchID</th>\n",
       "      <th>country</th>\n",
       "      <th>TournamentName</th>\n",
       "      <th>order</th>\n",
       "    </tr>\n",
       "  </thead>\n",
       "  <tbody>\n",
       "    <tr>\n",
       "      <th>0</th>\n",
       "      <td>9</td>\n",
       "      <td>528212</td>\n",
       "      <td>aaron lennox</td>\n",
       "      <td>206592</td>\n",
       "      <td>1993-02-19 00:00:00</td>\n",
       "      <td>190.5</td>\n",
       "      <td>181</td>\n",
       "      <td>Third Round</td>\n",
       "      <td>Fraserburgh FC - Montrose FC</td>\n",
       "      <td>2:4</td>\n",
       "      <td>...</td>\n",
       "      <td>2020</td>\n",
       "      <td>Fraserburgh FC</td>\n",
       "      <td>Montrose FC</td>\n",
       "      <td>First half</td>\n",
       "      <td>Goal</td>\n",
       "      <td>0:1</td>\n",
       "      <td>7564</td>\n",
       "      <td>Scotland</td>\n",
       "      <td>cups/sfa-scottish-fa-cup</td>\n",
       "      <td>NaN</td>\n",
       "    </tr>\n",
       "    <tr>\n",
       "      <th>1</th>\n",
       "      <td>9</td>\n",
       "      <td>528212</td>\n",
       "      <td>aaron lennox</td>\n",
       "      <td>206592</td>\n",
       "      <td>1993-02-19 00:00:00</td>\n",
       "      <td>190.5</td>\n",
       "      <td>181</td>\n",
       "      <td>Third Round Replay</td>\n",
       "      <td>Montrose FC - Kelty Hearts FC</td>\n",
       "      <td>2:4 on pens</td>\n",
       "      <td>...</td>\n",
       "      <td>2021</td>\n",
       "      <td>Montrose FC</td>\n",
       "      <td>Kelty Hearts FC</td>\n",
       "      <td>Penalty Shoot-Out</td>\n",
       "      <td>Goal</td>\n",
       "      <td>0:0</td>\n",
       "      <td>7598</td>\n",
       "      <td>Scotland</td>\n",
       "      <td>cups/sfa-scottish-fa-cup</td>\n",
       "      <td>2.0</td>\n",
       "    </tr>\n",
       "  </tbody>\n",
       "</table>\n",
       "<p>2 rows × 31 columns</p>\n",
       "</div>"
      ],
      "text/plain": [
       "   id  player_api_id   goalie_name  player_fifa_api_id             birthday  \\\n",
       "0   9         528212  aaron lennox              206592  1993-02-19 00:00:00   \n",
       "1   9         528212  aaron lennox              206592  1993-02-19 00:00:00   \n",
       "\n",
       "   height  weight            matchday              OfficialMatchName  \\\n",
       "0   190.5     181         Third Round   Fraserburgh FC - Montrose FC   \n",
       "1   190.5     181  Third Round Replay  Montrose FC - Kelty Hearts FC   \n",
       "\n",
       "   FinalResult  ... SeasonID    homeTeamName     awayTeamName  \\\n",
       "0          2:4  ...     2020  Fraserburgh FC      Montrose FC   \n",
       "1  2:4 on pens  ...     2021     Montrose FC  Kelty Hearts FC   \n",
       "\n",
       "       TypePhaseName EventTypeName ScoreBefore fcompMatchID   country  \\\n",
       "0         First half          Goal         0:1         7564  Scotland   \n",
       "1  Penalty Shoot-Out          Goal         0:0         7598  Scotland   \n",
       "\n",
       "             TournamentName  order  \n",
       "0  cups/sfa-scottish-fa-cup    NaN  \n",
       "1  cups/sfa-scottish-fa-cup    2.0  \n",
       "\n",
       "[2 rows x 31 columns]"
      ]
     },
     "execution_count": 8,
     "metadata": {},
     "output_type": "execute_result"
    }
   ],
   "source": [
    "#Cleaning up field names\n",
    "goalie_df.drop(columns=['player_name_y'], inplace=True)\n",
    "goalie_df.rename(columns={'player_name_x': 'goalie_name'}, inplace=True)\n",
    "goalie_df.head(2)"
   ]
  },
  {
   "cell_type": "code",
   "execution_count": 9,
   "id": "6226f5c9-6be8-4efd-a2b5-7b6b737f5cd1",
   "metadata": {},
   "outputs": [
    {
     "data": {
      "text/plain": [
       "outcome      \n",
       "scored           10330\n",
       "saved             1991\n",
       "missed             850\n",
       "not reported        11\n",
       "infringements        5\n",
       "Name: count, dtype: int64"
      ]
     },
     "execution_count": 9,
     "metadata": {},
     "output_type": "execute_result"
    }
   ],
   "source": [
    "goalie_df.value_counts(['outcome'])"
   ]
  },
  {
   "cell_type": "code",
   "execution_count": 10,
   "id": "39d7d9e1-e676-451c-8c14-07c876c1f779",
   "metadata": {},
   "outputs": [],
   "source": [
    "#Removing any penalty outcomes that are not in the keeper's control\n",
    "goalie_df = goalie_df[~goalie_df['outcome'].isin(['not reported', 'infringements', 'not scored', 'missed'])]"
   ]
  },
  {
   "cell_type": "code",
   "execution_count": 11,
   "id": "29d47352-8385-4945-a782-8e3769c3702d",
   "metadata": {},
   "outputs": [],
   "source": [
    "goalie_df['save'] = goalie_df['outcome'].map({'saved': 1, 'scored': 0})\n",
    "goalie_df = goalie_df.dropna(subset=['save'])"
   ]
  },
  {
   "cell_type": "code",
   "execution_count": 12,
   "id": "0ccfa880-97b6-42b2-9304-790357da8137",
   "metadata": {},
   "outputs": [
    {
     "name": "stdout",
     "output_type": "stream",
     "text": [
      "Optimization terminated successfully.\n",
      "         Current function value: 0.442271\n",
      "         Iterations 6\n",
      "                           Logit Regression Results                           \n",
      "==============================================================================\n",
      "Dep. Variable:                   save   No. Observations:                12321\n",
      "Model:                          Logit   Df Residuals:                    12319\n",
      "Method:                           MLE   Df Model:                            1\n",
      "Date:                Mon, 14 Jul 2025   Pseudo R-squ.:               7.402e-05\n",
      "Time:                        13:11:52   Log-Likelihood:                -5449.2\n",
      "converged:                       True   LL-Null:                       -5449.6\n",
      "Covariance Type:            nonrobust   LLR p-value:                    0.3691\n",
      "==============================================================================\n",
      "                 coef    std err          z      P>|z|      [0.025      0.975]\n",
      "------------------------------------------------------------------------------\n",
      "const         -2.4724      0.921     -2.685      0.007      -4.277      -0.668\n",
      "height         0.0044      0.005      0.898      0.369      -0.005       0.014\n",
      "==============================================================================\n"
     ]
    }
   ],
   "source": [
    "#Running logistic regression to test significance of keeper height on penalty saves\n",
    "import statsmodels.api as sm\n",
    "\n",
    "X = goalie_df[['height']]\n",
    "X = sm.add_constant(X)\n",
    "y = goalie_df['save']\n",
    "\n",
    "logit_model = sm.Logit(y, X)\n",
    "result = logit_model.fit()\n",
    "print(result.summary())"
   ]
  },
  {
   "cell_type": "code",
   "execution_count": 13,
   "id": "06ae0476-3458-48d3-b6b0-c560addb26da",
   "metadata": {},
   "outputs": [
    {
     "name": "stdout",
     "output_type": "stream",
     "text": [
      "Optimization terminated successfully.\n",
      "         Current function value: 0.442263\n",
      "         Iterations 6\n",
      "                           Logit Regression Results                           \n",
      "==============================================================================\n",
      "Dep. Variable:                   save   No. Observations:                12321\n",
      "Model:                          Logit   Df Residuals:                    12318\n",
      "Method:                           MLE   Df Model:                            2\n",
      "Date:                Mon, 14 Jul 2025   Pseudo R-squ.:               9.234e-05\n",
      "Time:                        13:11:52   Log-Likelihood:                -5449.1\n",
      "converged:                       True   LL-Null:                       -5449.6\n",
      "Covariance Type:            nonrobust   LLR p-value:                    0.6046\n",
      "==============================================================================\n",
      "                 coef    std err          z      P>|z|      [0.025      0.975]\n",
      "------------------------------------------------------------------------------\n",
      "const        -11.9780     21.397     -0.560      0.576     -53.916      29.960\n",
      "x1             0.1055      0.227      0.464      0.643      -0.340       0.551\n",
      "x2            -0.0003      0.001     -0.445      0.657      -0.001       0.001\n",
      "==============================================================================\n"
     ]
    }
   ],
   "source": [
    "#Nonlinear model to test for significance\n",
    "from sklearn.preprocessing import PolynomialFeatures\n",
    "\n",
    "poly = PolynomialFeatures(degree=2, include_bias=False)\n",
    "X_poly = poly.fit_transform(goalie_df[['height']])\n",
    "X_poly = sm.add_constant(X_poly)\n",
    "\n",
    "logit_model = sm.Logit(y, X_poly)\n",
    "result = logit_model.fit()\n",
    "print(result.summary())"
   ]
  },
  {
   "cell_type": "code",
   "execution_count": 14,
   "id": "7dd28f86-b3a3-438b-bbe8-354a80a9e4c8",
   "metadata": {},
   "outputs": [
    {
     "data": {
      "image/png": "[encoded data removed]",
      "text/plain": [
       "<Figure size 640x480 with 1 Axes>"
      ]
     },
     "metadata": {},
     "output_type": "display_data"
    }
   ],
   "source": [
    "#Creating Frequency Distribution of Height and Save Rate\n",
    "import matplotlib.pyplot as plt\n",
    "\n",
    "goalie_df['height_bin'] = pd.cut(goalie_df['height'], bins=[170, 180, 185, 190, 195, 200, 210])\n",
    "save_rates = goalie_df.groupby('height_bin')['save'].mean()\n",
    "save_rates.plot(kind='bar', xlabel='Height Range (cm)', ylabel='Save Rate', title='Save Rate by Height Bin')\n",
    "plt.xticks(rotation=45)\n",
    "plt.tight_layout()\n",
    "plt.show()"
   ]
  },
  {
   "cell_type": "markdown",
   "id": "5867d112-8046-4e9a-8f3b-6eb6cf186c73",
   "metadata": {},
   "source": [
    "## FIFA Goalkeeper Ratings"
   ]
  },
  {
   "cell_type": "code",
   "execution_count": 15,
   "id": "9953e764-b6c3-4fec-b3c1-e5a18303441f",
   "metadata": {},
   "outputs": [],
   "source": [
    "#Standardizing overall FIFA ratings to prepare for joining data\n",
    "attr_goalie = attr.sort_values('overall_rating', ascending=False).drop_duplicates('player_api_id')"
   ]
  },
  {
   "cell_type": "code",
   "execution_count": 16,
   "id": "3cc8659f-66d4-4930-96f7-9429d6b33815",
   "metadata": {},
   "outputs": [
    {
     "data": {
      "text/html": [
       "<div>\n",
       "<style scoped>\n",
       "    .dataframe tbody tr th:only-of-type {\n",
       "        vertical-align: middle;\n",
       "    }\n",
       "\n",
       "    .dataframe tbody tr th {\n",
       "        vertical-align: top;\n",
       "    }\n",
       "\n",
       "    .dataframe thead th {\n",
       "        text-align: right;\n",
       "    }\n",
       "</style>\n",
       "<table border=\"1\" class=\"dataframe\">\n",
       "  <thead>\n",
       "    <tr style=\"text-align: right;\">\n",
       "      <th></th>\n",
       "      <th>id</th>\n",
       "      <th>player_api_id</th>\n",
       "      <th>goalie_name</th>\n",
       "      <th>player_fifa_api_id</th>\n",
       "      <th>birthday</th>\n",
       "      <th>height</th>\n",
       "      <th>weight</th>\n",
       "      <th>matchday</th>\n",
       "      <th>OfficialMatchName</th>\n",
       "      <th>FinalResult</th>\n",
       "      <th>...</th>\n",
       "      <th>order</th>\n",
       "      <th>save</th>\n",
       "      <th>height_bin</th>\n",
       "      <th>overall_rating</th>\n",
       "      <th>potential</th>\n",
       "      <th>gk_diving</th>\n",
       "      <th>gk_handling</th>\n",
       "      <th>gk_kicking</th>\n",
       "      <th>gk_positioning</th>\n",
       "      <th>gk_reflexes</th>\n",
       "    </tr>\n",
       "  </thead>\n",
       "  <tbody>\n",
       "    <tr>\n",
       "      <th>0</th>\n",
       "      <td>9</td>\n",
       "      <td>528212</td>\n",
       "      <td>aaron lennox</td>\n",
       "      <td>206592</td>\n",
       "      <td>1993-02-19 00:00:00</td>\n",
       "      <td>190.5</td>\n",
       "      <td>181</td>\n",
       "      <td>Third Round</td>\n",
       "      <td>Fraserburgh FC - Montrose FC</td>\n",
       "      <td>2:4</td>\n",
       "      <td>...</td>\n",
       "      <td>NaN</td>\n",
       "      <td>0.0</td>\n",
       "      <td>(190, 195]</td>\n",
       "      <td>48.0</td>\n",
       "      <td>57.0</td>\n",
       "      <td>53.0</td>\n",
       "      <td>41.0</td>\n",
       "      <td>39.0</td>\n",
       "      <td>51.0</td>\n",
       "      <td>53.0</td>\n",
       "    </tr>\n",
       "    <tr>\n",
       "      <th>1</th>\n",
       "      <td>9</td>\n",
       "      <td>528212</td>\n",
       "      <td>aaron lennox</td>\n",
       "      <td>206592</td>\n",
       "      <td>1993-02-19 00:00:00</td>\n",
       "      <td>190.5</td>\n",
       "      <td>181</td>\n",
       "      <td>Third Round Replay</td>\n",
       "      <td>Montrose FC - Kelty Hearts FC</td>\n",
       "      <td>2:4 on pens</td>\n",
       "      <td>...</td>\n",
       "      <td>2.0</td>\n",
       "      <td>0.0</td>\n",
       "      <td>(190, 195]</td>\n",
       "      <td>48.0</td>\n",
       "      <td>57.0</td>\n",
       "      <td>53.0</td>\n",
       "      <td>41.0</td>\n",
       "      <td>39.0</td>\n",
       "      <td>51.0</td>\n",
       "      <td>53.0</td>\n",
       "    </tr>\n",
       "  </tbody>\n",
       "</table>\n",
       "<p>2 rows × 40 columns</p>\n",
       "</div>"
      ],
      "text/plain": [
       "   id  player_api_id   goalie_name  player_fifa_api_id             birthday  \\\n",
       "0   9         528212  aaron lennox              206592  1993-02-19 00:00:00   \n",
       "1   9         528212  aaron lennox              206592  1993-02-19 00:00:00   \n",
       "\n",
       "   height  weight            matchday              OfficialMatchName  \\\n",
       "0   190.5     181         Third Round   Fraserburgh FC - Montrose FC   \n",
       "1   190.5     181  Third Round Replay  Montrose FC - Kelty Hearts FC   \n",
       "\n",
       "   FinalResult  ... order save  height_bin overall_rating potential gk_diving  \\\n",
       "0          2:4  ...   NaN  0.0  (190, 195]           48.0      57.0      53.0   \n",
       "1  2:4 on pens  ...   2.0  0.0  (190, 195]           48.0      57.0      53.0   \n",
       "\n",
       "  gk_handling  gk_kicking  gk_positioning  gk_reflexes  \n",
       "0        41.0        39.0            51.0         53.0  \n",
       "1        41.0        39.0            51.0         53.0  \n",
       "\n",
       "[2 rows x 40 columns]"
      ]
     },
     "execution_count": 16,
     "metadata": {},
     "output_type": "execute_result"
    }
   ],
   "source": [
    "#Merging FIFA ratings with Goalie df\n",
    "goalie_fifa = pd.merge(\n",
    "    goalie_df,\n",
    "    attr_goalie[['player_api_id', 'overall_rating', 'potential', \n",
    "                 'gk_diving', 'gk_handling', 'gk_kicking', 'gk_positioning', \n",
    "                 'gk_reflexes']],\n",
    "    on='player_api_id',\n",
    "    how='left'\n",
    ")\n",
    "goalie_fifa.head(2)"
   ]
  },
  {
   "cell_type": "code",
   "execution_count": 17,
   "id": "d64617ea-3b1e-48d4-938a-a5b336650f99",
   "metadata": {},
   "outputs": [
    {
     "name": "stdout",
     "output_type": "stream",
     "text": [
      "Optimization terminated successfully.\n",
      "         Current function value: 0.441520\n",
      "         Iterations 6\n",
      "                           Logit Regression Results                           \n",
      "==============================================================================\n",
      "Dep. Variable:                   save   No. Observations:                12321\n",
      "Model:                          Logit   Df Residuals:                    12314\n",
      "Method:                           MLE   Df Model:                            6\n",
      "Date:                Mon, 14 Jul 2025   Pseudo R-squ.:                0.001772\n",
      "Time:                        13:11:54   Log-Likelihood:                -5440.0\n",
      "converged:                       True   LL-Null:                       -5449.6\n",
      "Covariance Type:            nonrobust   LLR p-value:                  0.003669\n",
      "==================================================================================\n",
      "                     coef    std err          z      P>|z|      [0.025      0.975]\n",
      "----------------------------------------------------------------------------------\n",
      "const             -2.5851      0.241    -10.715      0.000      -3.058      -2.112\n",
      "overall_rating     0.0130      0.004      3.490      0.000       0.006       0.020\n",
      "gk_diving         -0.0029      0.008     -0.378      0.706      -0.018       0.012\n",
      "gk_handling        0.0018      0.007      0.269      0.788      -0.011       0.015\n",
      "gk_kicking        -0.0012      0.003     -0.392      0.695      -0.007       0.005\n",
      "gk_positioning    -0.0123      0.007     -1.724      0.085      -0.026       0.002\n",
      "gk_reflexes        0.0137      0.008      1.687      0.092      -0.002       0.030\n",
      "==================================================================================\n"
     ]
    }
   ],
   "source": [
    "#Creating logistic regression to see which variables are significant\n",
    "\n",
    "X = goalie_fifa[['overall_rating', 'gk_diving', 'gk_handling', 'gk_kicking', 'gk_positioning', 'gk_reflexes']]\n",
    "X = sm.add_constant(X)\n",
    "y = goalie_fifa['save']\n",
    "\n",
    "logit_model = sm.Logit(y, X)\n",
    "result = logit_model.fit()\n",
    "print(result.summary())"
   ]
  },
  {
   "cell_type": "code",
   "execution_count": 18,
   "id": "dd6586c6-8090-4d30-abd5-ae006d6a4062",
   "metadata": {},
   "outputs": [
    {
     "name": "stdout",
     "output_type": "stream",
     "text": [
      "              precision    recall  f1-score   support\n",
      "\n",
      "         0.0       0.83      1.00      0.91      2053\n",
      "         1.0       0.36      0.01      0.02       412\n",
      "\n",
      "    accuracy                           0.83      2465\n",
      "   macro avg       0.60      0.50      0.46      2465\n",
      "weighted avg       0.76      0.83      0.76      2465\n",
      "\n"
     ]
    }
   ],
   "source": [
    "#Exploring non-linear random forest model performance\n",
    "from sklearn.ensemble import RandomForestClassifier\n",
    "from sklearn.model_selection import train_test_split\n",
    "from sklearn.metrics import classification_report, roc_auc_score\n",
    "\n",
    "X = goalie_fifa[['overall_rating', 'gk_diving', 'gk_handling', 'gk_kicking',\n",
    "              'gk_positioning', 'gk_reflexes']].dropna()\n",
    "y = goalie_fifa.loc[X.index, 'save']\n",
    "\n",
    "X_train, X_test, y_train, y_test = train_test_split(X, y, test_size=0.2, random_state=42)\n",
    "rf = RandomForestClassifier(n_estimators=100, random_state=42)\n",
    "rf.fit(X_train, y_train)\n",
    "y_pred = rf.predict(X_test)\n",
    "y_prob = rf.predict_proba(X_test)[:, 1]\n",
    "\n",
    "print(classification_report(y_test, y_pred))"
   ]
  },
  {
   "cell_type": "code",
   "execution_count": 19,
   "id": "6df9c23b-ad2b-42fb-80cf-2441c96ae701",
   "metadata": {},
   "outputs": [
    {
     "name": "stdout",
     "output_type": "stream",
     "text": [
      "              precision    recall  f1-score   support\n",
      "\n",
      "         0.0       0.85      0.66      0.74      2053\n",
      "         1.0       0.20      0.42      0.27       412\n",
      "\n",
      "    accuracy                           0.62      2465\n",
      "   macro avg       0.52      0.54      0.50      2465\n",
      "weighted avg       0.74      0.62      0.66      2465\n",
      "\n"
     ]
    }
   ],
   "source": [
    "#Improving model by oversampling minority class (SMOTE) and weighting model\n",
    "from imblearn.over_sampling import SMOTE\n",
    "from sklearn.pipeline import make_pipeline\n",
    "\n",
    "smote = SMOTE(random_state=42)\n",
    "X_resampled, y_resampled = smote.fit_resample(X_train, y_train)\n",
    "rf = RandomForestClassifier(n_estimators=100, random_state=42, class_weight='balanced')\n",
    "rf.fit(X_resampled, y_resampled)\n",
    "y_pred = rf.predict(X_test)\n",
    "y_prob = rf.predict_proba(X_test)[:, 1]\n",
    "\n",
    "print(classification_report(y_test, y_pred))"
   ]
  }
 ],
 "metadata": {
  "kernelspec": {
   "display_name": "Python [conda env:base] *",
   "language": "python",
   "name": "conda-base-py"
  },
  "language_info": {
   "codemirror_mode": {
    "name": "ipython",
    "version": 3
   },
   "file_extension": ".py",
   "mimetype": "text/x-python",
   "name": "python",
   "nbconvert_exporter": "python",
   "pygments_lexer": "ipython3",
   "version": "3.13.5"
  }
 },
 "nbformat": 4,
 "nbformat_minor": 5
}
